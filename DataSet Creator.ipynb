{
 "cells": [
  {
   "cell_type": "code",
   "execution_count": 1,
   "id": "5c46f0ef",
   "metadata": {},
   "outputs": [],
   "source": [
    "import pandas as pd\n",
    "import openpyxl\n",
    "from pathlib import Path"
   ]
  },
  {
   "cell_type": "code",
   "execution_count": 2,
   "id": "06de2b1d",
   "metadata": {},
   "outputs": [],
   "source": [
    "# Data for +ve Samples"
   ]
  },
  {
   "cell_type": "code",
   "execution_count": 7,
   "id": "9912ed7b",
   "metadata": {},
   "outputs": [],
   "source": [
    "FILE_PATH = \"COVID.metadata.xlsx\"\n",
    "Images_Path = \"COVID\"\n"
   ]
  },
  {
   "cell_type": "code",
   "execution_count": 8,
   "id": "2f32e0bd",
   "metadata": {},
   "outputs": [],
   "source": [
    "covidData_file = pd.ExcelFile(\"COVID.metadata.xlsx\")"
   ]
  },
  {
   "cell_type": "code",
   "execution_count": null,
   "id": "ef46e5bb",
   "metadata": {},
   "outputs": [],
   "source": [
    " "
   ]
  }
 ],
 "metadata": {
  "kernelspec": {
   "display_name": "Python 3",
   "language": "python",
   "name": "python3"
  },
  "language_info": {
   "codemirror_mode": {
    "name": "ipython",
    "version": 3
   },
   "file_extension": ".py",
   "mimetype": "text/x-python",
   "name": "python",
   "nbconvert_exporter": "python",
   "pygments_lexer": "ipython3",
   "version": "3.8.8"
  }
 },
 "nbformat": 4,
 "nbformat_minor": 5
}
